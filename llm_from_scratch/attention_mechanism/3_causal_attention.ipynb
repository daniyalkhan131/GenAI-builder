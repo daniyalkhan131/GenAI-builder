{
 "cells": [
  {
   "cell_type": "code",
   "execution_count": 35,
   "id": "9751e2b2",
   "metadata": {},
   "outputs": [],
   "source": [
    "import torch\n",
    "import sys\n",
    "sys.path.append('/Users/daniyalkhan/Documents/AI/DL/genAI-builders/llm_from_scratch')\n",
    "from utils import SelfAttention_v2\n",
    "from torch import nn"
   ]
  },
  {
   "cell_type": "code",
   "execution_count": 5,
   "id": "03c8df66",
   "metadata": {},
   "outputs": [],
   "source": [
    "inputs = torch.tensor(\n",
    "  [[0.43, 0.15, 0.89], # Your     (x^1)\n",
    "   [0.55, 0.87, 0.66], # journey  (x^2)\n",
    "   [0.57, 0.85, 0.64], # starts   (x^3)\n",
    "   [0.22, 0.58, 0.33], # with     (x^4)\n",
    "   [0.77, 0.25, 0.10], # one      (x^5)\n",
    "   [0.05, 0.80, 0.55]] # step     (x^6)\n",
    ")\n",
    "x_2 = inputs[1] #A\n",
    "d_in = inputs.shape[1] #B\n",
    "d_out = 2 #C"
   ]
  },
  {
   "cell_type": "code",
   "execution_count": 6,
   "id": "1187d02f",
   "metadata": {},
   "outputs": [],
   "source": [
    "sa_v2 = SelfAttention_v2(d_in, d_out)"
   ]
  },
  {
   "cell_type": "code",
   "execution_count": 7,
   "id": "1b68b81c",
   "metadata": {},
   "outputs": [
    {
     "name": "stdout",
     "output_type": "stream",
     "text": [
      "tensor([[0.1686, 0.1683, 0.1681, 0.1649, 0.1636, 0.1665],\n",
      "        [0.1716, 0.1565, 0.1570, 0.1722, 0.1768, 0.1657],\n",
      "        [0.1718, 0.1569, 0.1573, 0.1719, 0.1763, 0.1657],\n",
      "        [0.1689, 0.1591, 0.1595, 0.1713, 0.1751, 0.1661],\n",
      "        [0.1739, 0.1655, 0.1654, 0.1651, 0.1642, 0.1659],\n",
      "        [0.1672, 0.1556, 0.1563, 0.1743, 0.1805, 0.1661]],\n",
      "       grad_fn=<SoftmaxBackward0>)\n"
     ]
    }
   ],
   "source": [
    "queries = sa_v2.W_query(inputs) #A\n",
    "keys = sa_v2.W_key(inputs)\n",
    "attn_scores = queries @ keys.T\n",
    "attn_weights = torch.softmax(attn_scores / keys.shape[-1]**0.5, dim=1)\n",
    "print(attn_weights)"
   ]
  },
  {
   "cell_type": "code",
   "execution_count": 9,
   "id": "3077c843",
   "metadata": {},
   "outputs": [],
   "source": [
    "# We can now use PyTorch's tril function to create a mask where the values above the diagonal are zero:"
   ]
  },
  {
   "cell_type": "code",
   "execution_count": 10,
   "id": "4a02419d",
   "metadata": {},
   "outputs": [
    {
     "data": {
      "text/plain": [
       "tensor([[1., 1., 1., 1., 1., 1.],\n",
       "        [1., 1., 1., 1., 1., 1.],\n",
       "        [1., 1., 1., 1., 1., 1.],\n",
       "        [1., 1., 1., 1., 1., 1.],\n",
       "        [1., 1., 1., 1., 1., 1.],\n",
       "        [1., 1., 1., 1., 1., 1.]])"
      ]
     },
     "execution_count": 10,
     "metadata": {},
     "output_type": "execute_result"
    }
   ],
   "source": [
    "context_length = inputs.shape[0]\n",
    "torch.ones(context_length, context_length)"
   ]
  },
  {
   "cell_type": "code",
   "execution_count": 11,
   "id": "a0654a6e",
   "metadata": {},
   "outputs": [
    {
     "name": "stdout",
     "output_type": "stream",
     "text": [
      "tensor([[1., 0., 0., 0., 0., 0.],\n",
      "        [1., 1., 0., 0., 0., 0.],\n",
      "        [1., 1., 1., 0., 0., 0.],\n",
      "        [1., 1., 1., 1., 0., 0.],\n",
      "        [1., 1., 1., 1., 1., 0.],\n",
      "        [1., 1., 1., 1., 1., 1.]])\n"
     ]
    }
   ],
   "source": [
    "context_length = attn_scores.shape[0]\n",
    "mask_simple = torch.tril(torch.ones(context_length, context_length))\n",
    "print(mask_simple)"
   ]
  },
  {
   "cell_type": "code",
   "execution_count": 12,
   "id": "82318439",
   "metadata": {},
   "outputs": [
    {
     "name": "stdout",
     "output_type": "stream",
     "text": [
      "tensor([[0.1686, 0.0000, 0.0000, 0.0000, 0.0000, 0.0000],\n",
      "        [0.1716, 0.1565, 0.0000, 0.0000, 0.0000, 0.0000],\n",
      "        [0.1718, 0.1569, 0.1573, 0.0000, 0.0000, 0.0000],\n",
      "        [0.1689, 0.1591, 0.1595, 0.1713, 0.0000, 0.0000],\n",
      "        [0.1739, 0.1655, 0.1654, 0.1651, 0.1642, 0.0000],\n",
      "        [0.1672, 0.1556, 0.1563, 0.1743, 0.1805, 0.1661]],\n",
      "       grad_fn=<MulBackward0>)\n"
     ]
    }
   ],
   "source": [
    "masked_simple = attn_weights*mask_simple\n",
    "print(masked_simple)"
   ]
  },
  {
   "cell_type": "code",
   "execution_count": 13,
   "id": "881a9e35",
   "metadata": {},
   "outputs": [
    {
     "name": "stdout",
     "output_type": "stream",
     "text": [
      "tensor([[1.0000, 0.0000, 0.0000, 0.0000, 0.0000, 0.0000],\n",
      "        [0.5230, 0.4770, 0.0000, 0.0000, 0.0000, 0.0000],\n",
      "        [0.3536, 0.3227, 0.3237, 0.0000, 0.0000, 0.0000],\n",
      "        [0.2564, 0.2415, 0.2421, 0.2600, 0.0000, 0.0000],\n",
      "        [0.2084, 0.1984, 0.1983, 0.1979, 0.1969, 0.0000],\n",
      "        [0.1672, 0.1556, 0.1563, 0.1743, 0.1805, 0.1661]],\n",
      "       grad_fn=<DivBackward0>)\n"
     ]
    }
   ],
   "source": [
    "row_sums = masked_simple.sum(dim=1, keepdim=True)\n",
    "masked_simple_norm = masked_simple / row_sums\n",
    "print(masked_simple_norm)"
   ]
  },
  {
   "cell_type": "code",
   "execution_count": 14,
   "id": "78678d79",
   "metadata": {},
   "outputs": [],
   "source": [
    "# The result is an attention weight matrix where the attention weights above the diagonal are zeroed out and where the rows sum to 1.\n",
    "# While we could be technically done with implementing causal attention at this point, we can take advantage of a mathematical property of the softmax function.\n",
    "# We can implement the computation of the masked attention weights more efficiently in fewer steps.\n",
    "# The softmax function converts its inputs into a probability distribution.\n",
    "# When negative infinity values (-∞) are present in a row, the softmax function treats them as zero probability.\n",
    "# (Mathematically, this is because e -∞ approaches 0.)\n",
    "# We can implement this more efficient masking \"trick\" by creating a mask with 1's above the diagonal and then replacing these 1's with negative infinity (-inf) values:"
   ]
  },
  {
   "cell_type": "code",
   "execution_count": 15,
   "id": "d32d2587",
   "metadata": {},
   "outputs": [
    {
     "name": "stdout",
     "output_type": "stream",
     "text": [
      "tensor([[ 0.0628,  0.0598,  0.0586,  0.0310,  0.0204,  0.0450],\n",
      "        [-0.1866, -0.3169, -0.3125, -0.1821, -0.1444, -0.2363],\n",
      "        [-0.1763, -0.3053, -0.3010, -0.1758, -0.1400, -0.2275],\n",
      "        [-0.1569, -0.2420, -0.2384, -0.1373, -0.1067, -0.1806],\n",
      "        [ 0.0603, -0.0093, -0.0100, -0.0133, -0.0205, -0.0060],\n",
      "        [-0.2613, -0.3628, -0.3570, -0.2027, -0.1535, -0.2712]],\n",
      "       grad_fn=<MmBackward0>)\n"
     ]
    }
   ],
   "source": [
    "print(attn_scores)"
   ]
  },
  {
   "cell_type": "code",
   "execution_count": 16,
   "id": "afa0d750",
   "metadata": {},
   "outputs": [
    {
     "data": {
      "text/plain": [
       "tensor([[1., 1., 1., 1., 1., 1.],\n",
       "        [0., 1., 1., 1., 1., 1.],\n",
       "        [0., 0., 1., 1., 1., 1.],\n",
       "        [0., 0., 0., 1., 1., 1.],\n",
       "        [0., 0., 0., 0., 1., 1.],\n",
       "        [0., 0., 0., 0., 0., 1.]])"
      ]
     },
     "execution_count": 16,
     "metadata": {},
     "output_type": "execute_result"
    }
   ],
   "source": [
    "torch.triu(torch.ones(context_length, context_length))"
   ]
  },
  {
   "cell_type": "code",
   "execution_count": 17,
   "id": "ace47bea",
   "metadata": {},
   "outputs": [
    {
     "name": "stdout",
     "output_type": "stream",
     "text": [
      "tensor([[0., 1., 1., 1., 1., 1.],\n",
      "        [0., 0., 1., 1., 1., 1.],\n",
      "        [0., 0., 0., 1., 1., 1.],\n",
      "        [0., 0., 0., 0., 1., 1.],\n",
      "        [0., 0., 0., 0., 0., 1.],\n",
      "        [0., 0., 0., 0., 0., 0.]])\n"
     ]
    }
   ],
   "source": [
    "mask = torch.triu(torch.ones(context_length, context_length), diagonal=1)\n",
    "print(mask)"
   ]
  },
  {
   "cell_type": "code",
   "execution_count": 18,
   "id": "9d0730a6",
   "metadata": {},
   "outputs": [
    {
     "name": "stdout",
     "output_type": "stream",
     "text": [
      "tensor([[ 0.0628,    -inf,    -inf,    -inf,    -inf,    -inf],\n",
      "        [-0.1866, -0.3169,    -inf,    -inf,    -inf,    -inf],\n",
      "        [-0.1763, -0.3053, -0.3010,    -inf,    -inf,    -inf],\n",
      "        [-0.1569, -0.2420, -0.2384, -0.1373,    -inf,    -inf],\n",
      "        [ 0.0603, -0.0093, -0.0100, -0.0133, -0.0205,    -inf],\n",
      "        [-0.2613, -0.3628, -0.3570, -0.2027, -0.1535, -0.2712]],\n",
      "       grad_fn=<MaskedFillBackward0>)\n"
     ]
    }
   ],
   "source": [
    "mask = torch.triu(torch.ones(context_length, context_length), diagonal=1)\n",
    "masked = attn_scores.masked_fill(mask.bool(), -torch.inf)\n",
    "print(masked)"
   ]
  },
  {
   "cell_type": "code",
   "execution_count": 19,
   "id": "84c24672",
   "metadata": {},
   "outputs": [
    {
     "name": "stdout",
     "output_type": "stream",
     "text": [
      "tensor([[1.0000, 0.0000, 0.0000, 0.0000, 0.0000, 0.0000],\n",
      "        [0.5230, 0.4770, 0.0000, 0.0000, 0.0000, 0.0000],\n",
      "        [0.3536, 0.3227, 0.3237, 0.0000, 0.0000, 0.0000],\n",
      "        [0.2564, 0.2415, 0.2421, 0.2600, 0.0000, 0.0000],\n",
      "        [0.2084, 0.1984, 0.1983, 0.1979, 0.1969, 0.0000],\n",
      "        [0.1672, 0.1556, 0.1563, 0.1743, 0.1805, 0.1661]],\n",
      "       grad_fn=<SoftmaxBackward0>)\n"
     ]
    }
   ],
   "source": [
    "attn_weights = torch.softmax(masked / keys.shape[-1]**0.5, dim=1)\n",
    "print(attn_weights)"
   ]
  },
  {
   "cell_type": "code",
   "execution_count": 20,
   "id": "01bfe1da",
   "metadata": {},
   "outputs": [],
   "source": [
    "# As we can see based on the output, the values in each row sum to 1, and no further normalization is necessary.\n",
    "# Masking in Transformers sets scores for future tokens to a large negative value, making their influence in the softmax calculation effectively zero.\n",
    "# The softmax function then recalculates attention weights only among the unmasked tokens.\n",
    "# This process ensures no information leakage from masked tokens, focusing the model solely on the intended data.\n",
    "# We could now use the modified attention weights to compute the context vectors via context_vec = attn_weights @ values.\n",
    "# However, in the next section, we first cover another minor tweak to the causal attention mechanism that is useful for reducing overfitting when training LLMs."
   ]
  },
  {
   "cell_type": "code",
   "execution_count": 21,
   "id": "039acaab",
   "metadata": {},
   "outputs": [],
   "source": [
    "# MASKING ADDITIONAL ATTENTION WEIGHTS WITH DROPOUT"
   ]
  },
  {
   "cell_type": "code",
   "execution_count": 22,
   "id": "0ed2fd87",
   "metadata": {},
   "outputs": [
    {
     "name": "stdout",
     "output_type": "stream",
     "text": [
      "tensor([[1., 1., 1., 1., 1., 1.],\n",
      "        [1., 1., 1., 1., 1., 1.],\n",
      "        [1., 1., 1., 1., 1., 1.],\n",
      "        [1., 1., 1., 1., 1., 1.],\n",
      "        [1., 1., 1., 1., 1., 1.],\n",
      "        [1., 1., 1., 1., 1., 1.]])\n"
     ]
    }
   ],
   "source": [
    "example = torch.ones(6, 6) #B\n",
    "print(example)"
   ]
  },
  {
   "cell_type": "code",
   "execution_count": 23,
   "id": "442316c0",
   "metadata": {},
   "outputs": [
    {
     "name": "stdout",
     "output_type": "stream",
     "text": [
      "tensor([[2., 2., 0., 2., 2., 0.],\n",
      "        [0., 0., 0., 2., 0., 2.],\n",
      "        [2., 2., 2., 2., 0., 2.],\n",
      "        [0., 2., 2., 0., 0., 2.],\n",
      "        [0., 2., 0., 2., 0., 2.],\n",
      "        [0., 2., 2., 2., 2., 0.]])\n"
     ]
    }
   ],
   "source": [
    "torch.manual_seed(123)\n",
    "dropout = torch.nn.Dropout(0.5) #A\n",
    "example = torch.ones(6, 6) #B\n",
    "print(dropout(example))"
   ]
  },
  {
   "cell_type": "code",
   "execution_count": 24,
   "id": "30b07459",
   "metadata": {},
   "outputs": [],
   "source": [
    "# When applying dropout to an attention weight matrix with a rate of 50%, half of the elements in the matrix are randomly set to zero.\n",
    "# To compensate for the reduction in active elements, the values of the remaining elements in the matrix are scaled up by a factor of 1/0.5 =2.\n",
    "# This scaling is crucial to maintain the overall balance of the attention weights, ensuring that the average influence of the attention mechanism remains consistent during both the training and inference phases."
   ]
  },
  {
   "cell_type": "code",
   "execution_count": 25,
   "id": "dd31c89c",
   "metadata": {},
   "outputs": [
    {
     "name": "stdout",
     "output_type": "stream",
     "text": [
      "tensor([[2.0000, 0.0000, 0.0000, 0.0000, 0.0000, 0.0000],\n",
      "        [0.0000, 0.0000, 0.0000, 0.0000, 0.0000, 0.0000],\n",
      "        [0.7071, 0.6455, 0.6474, 0.0000, 0.0000, 0.0000],\n",
      "        [0.0000, 0.4829, 0.4842, 0.0000, 0.0000, 0.0000],\n",
      "        [0.0000, 0.3969, 0.0000, 0.3958, 0.0000, 0.0000],\n",
      "        [0.0000, 0.3113, 0.3126, 0.3486, 0.3609, 0.0000]],\n",
      "       grad_fn=<MulBackward0>)\n"
     ]
    }
   ],
   "source": [
    "torch.manual_seed(123)\n",
    "print(dropout(attn_weights))"
   ]
  },
  {
   "cell_type": "code",
   "execution_count": 26,
   "id": "1837dab5",
   "metadata": {},
   "outputs": [],
   "source": [
    "# As we can see above, the resulting attention weight matrix now has additional elements zeroed out and the remaining ones rescaled."
   ]
  },
  {
   "cell_type": "code",
   "execution_count": 27,
   "id": "bffe42e3",
   "metadata": {},
   "outputs": [],
   "source": [
    "### IMPLEMENTING A COMPACT CAUSAL ATTENTION CLASS"
   ]
  },
  {
   "cell_type": "code",
   "execution_count": 29,
   "id": "10d17b95",
   "metadata": {},
   "outputs": [],
   "source": [
    "# Before we begin, one more thing is to ensure that the code can handle batches consisting of more than one input.\n",
    "# This will ensure that the CausalAttention class supports the batch outputs produced by the data loader we implemented earlier."
   ]
  },
  {
   "cell_type": "code",
   "execution_count": 32,
   "id": "27fdb8ba",
   "metadata": {},
   "outputs": [
    {
     "name": "stdout",
     "output_type": "stream",
     "text": [
      "torch.Size([2, 6, 3])\n"
     ]
    }
   ],
   "source": [
    "batch = torch.stack((inputs, inputs), dim=0)\n",
    "print(batch.shape) \n",
    "# This results in a 3D tensor consisting of 2 input texts with 6 tokens each, where each token is a 3-dimensional embedding vector."
   ]
  },
  {
   "cell_type": "code",
   "execution_count": 33,
   "id": "8341198d",
   "metadata": {},
   "outputs": [],
   "source": [
    "# Step 1: Compared to the previous SelfAttention_v1 class, we added a dropout layer.\n",
    "# Step 2: The register_buffer call is also a new addition (more information is provided in the following text).\n",
    "# Step 3: We transpose dimensions 1 and 2, keeping the batch dimension at the first position (0).\n",
    "# Step 4: In PyTorch, operations with a trailing underscore are performed in-place, avoiding unnecessary memory copies"
   ]
  },
  {
   "cell_type": "code",
   "execution_count": 36,
   "id": "4bdf619f",
   "metadata": {},
   "outputs": [],
   "source": [
    "class CausalAttention(nn.Module):\n",
    "\n",
    "    def __init__(self, d_in, d_out, context_length,\n",
    "                 dropout, qkv_bias=False):\n",
    "        super().__init__()\n",
    "        self.d_out = d_out\n",
    "        self.W_query = nn.Linear(d_in, d_out, bias=qkv_bias)\n",
    "        self.W_key   = nn.Linear(d_in, d_out, bias=qkv_bias)\n",
    "        self.W_value = nn.Linear(d_in, d_out, bias=qkv_bias)\n",
    "        self.dropout = nn.Dropout(dropout) # New\n",
    "        self.register_buffer('mask', torch.triu(torch.ones(context_length, context_length), diagonal=1)) # New\n",
    "\n",
    "    def forward(self, x):\n",
    "        b, num_tokens, d_in = x.shape # New batch dimension b\n",
    "        keys = self.W_key(x)\n",
    "        queries = self.W_query(x)\n",
    "        values = self.W_value(x)\n",
    "\n",
    "        attn_scores = queries @ keys.transpose(1, 2) # Changed transpose\n",
    "        attn_scores.masked_fill_(  # New, _ ops are in-place\n",
    "            self.mask.bool()[:num_tokens, :num_tokens], -torch.inf)  # `:num_tokens` to account for cases where the number of tokens in the batch is smaller than the supported context_size\n",
    "        attn_weights = torch.softmax(\n",
    "            attn_scores / keys.shape[-1]**0.5, dim=-1\n",
    "        )\n",
    "        attn_weights = self.dropout(attn_weights) # New\n",
    "\n",
    "        context_vec = attn_weights @ values\n",
    "        return context_vec"
   ]
  },
  {
   "cell_type": "code",
   "execution_count": 38,
   "id": "4ddcefd3",
   "metadata": {},
   "outputs": [],
   "source": [
    "# The use of register_buffer in PyTorch is not strictly necessary for all use cases but offers several advantages here.\n",
    "# For instance, when we use the CausalAttention class in our LLM, buffers are automatically moved to the appropriate device (CPU or GPU) along with our model, which will be relevant when training the LLM in future chapters.\n",
    "# This means we don't need to manually ensure these tensors are on the same device as your model parameters, avoiding device mismatch errors."
   ]
  },
  {
   "cell_type": "code",
   "execution_count": 39,
   "id": "876ebe52",
   "metadata": {},
   "outputs": [
    {
     "name": "stdout",
     "output_type": "stream",
     "text": [
      "context_vecs.shape: torch.Size([2, 6, 2])\n"
     ]
    }
   ],
   "source": [
    "torch.manual_seed(123)\n",
    "context_length = batch.shape[1]\n",
    "ca = CausalAttention(d_in, d_out, context_length, 0.0)\n",
    "context_vecs = ca(batch)\n",
    "print(\"context_vecs.shape:\", context_vecs.shape)"
   ]
  },
  {
   "cell_type": "code",
   "execution_count": 41,
   "id": "8ce8353c",
   "metadata": {},
   "outputs": [
    {
     "name": "stdout",
     "output_type": "stream",
     "text": [
      "tensor([[[-0.4519,  0.2216],\n",
      "         [-0.5874,  0.0058],\n",
      "         [-0.6300, -0.0632],\n",
      "         [-0.5675, -0.0843],\n",
      "         [-0.5526, -0.0981],\n",
      "         [-0.5299, -0.1081]],\n",
      "\n",
      "        [[-0.4519,  0.2216],\n",
      "         [-0.5874,  0.0058],\n",
      "         [-0.6300, -0.0632],\n",
      "         [-0.5675, -0.0843],\n",
      "         [-0.5526, -0.0981],\n",
      "         [-0.5299, -0.1081]]], grad_fn=<UnsafeViewBackward0>)\n"
     ]
    }
   ],
   "source": [
    "print(context_vecs)\n",
    "# As we can see, the resulting context vector is a 3D tensor where each token is now represented by a 2D embedding"
   ]
  },
  {
   "cell_type": "code",
   "execution_count": null,
   "id": "8bb08161",
   "metadata": {},
   "outputs": [],
   "source": []
  }
 ],
 "metadata": {
  "kernelspec": {
   "display_name": "genAI",
   "language": "python",
   "name": "python3"
  },
  "language_info": {
   "codemirror_mode": {
    "name": "ipython",
    "version": 3
   },
   "file_extension": ".py",
   "mimetype": "text/x-python",
   "name": "python",
   "nbconvert_exporter": "python",
   "pygments_lexer": "ipython3",
   "version": "3.10.14"
  }
 },
 "nbformat": 4,
 "nbformat_minor": 5
}
